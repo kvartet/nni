{
 "cells": [
  {
   "cell_type": "code",
   "execution_count": 18,
   "metadata": {},
   "outputs": [],
   "source": [
    "import numpy as np\n",
    "import random\n",
    "import collections"
   ]
  },
  {
   "cell_type": "code",
   "execution_count": 3,
   "metadata": {},
   "outputs": [],
   "source": [
    "search_space = {\n",
    "    \"branch0\":{\n",
    "        \"_type\":\"choice\",\n",
    "        \"_value\":[\n",
    "            {\n",
    "                \"_name\":\"group1\",\n",
    "                \"kernel\": {\"_type\":\"choice\",\"_value\":[\"linear\", \"rbf\", \"poly\", \"sigmoid\"]},\n",
    "                \"degree\": {\"_type\":\"choice\",\"_value\":[1, 2, 3, 4]}\n",
    "            },\n",
    "            {\n",
    "                \"_name\":\"group2\",\n",
    "                \"kernel\": {\"_type\":\"choice\",\"_value\":[\"linear\", \"rbf\", \"poly\", \"sigmoid\"]},\n",
    "                \"degree\": {\"_type\":\"choice\",\"_value\":[1, 2, 3, 4]}\n",
    "            }\n",
    "        ]\n",
    "    }\n",
    "}"
   ]
  },
  {
   "cell_type": "code",
   "execution_count": 1,
   "metadata": {},
   "outputs": [],
   "source": [
    "class ParameterRange():\n",
    "    def __init__(self, name, algorithm_name, is_categorical, size,\n",
    "                 categorical_values, low, high, is_log_distributed, is_integer):\n",
    "        self.name = name\n",
    "        self.tag = algorithm_name + \"|\" + name\n",
    "\n",
    "        self.is_categorical = is_categorical\n",
    "\n",
    "        self.size = size\n",
    "        self.categorical_values = categorical_values\n",
    "\n",
    "        self.low = low\n",
    "        self.high = high\n",
    "        self.is_log_distributed = is_log_distributed\n",
    "        self.is_integer = is_integer\n",
    "\n",
    "        if is_log_distributed:\n",
    "            self.high = np.log(high)\n",
    "            self.low = np.log(low)\n",
    "\n",
    "    @staticmethod\n",
    "    def categorical(algorithm_name, name, values):\n",
    "        return ParameterRange(name, algorithm_name, True,\n",
    "                              len(values), values, np.nan, np.nan, False, False)\n",
    "\n",
    "    @staticmethod\n",
    "    def numerical(algorithm_name, name, low, high,\n",
    "                  is_log_distributed=False, is_integer=False):\n",
    "        return ParameterRange(name, algorithm_name, False,\n",
    "                              -1, None, low, high, is_log_distributed, is_integer)\n",
    "\n",
    "\n",
    "class SearchSpace():\n",
    "    def __init__(self, json_string):\n",
    "        self.algorithms = collections.OrderedDict()\n",
    "        self.pipelines = list()\n",
    "        for pipeline_json in json_string.values():\n",
    "#             pipeline = list()\n",
    "#             self.pipelines.append(pipeline)\n",
    "            for algo_kv in pipeline_json[\"_value\"]:\n",
    "                self.pipelines.append(algo_kv[\"_name\"])\n",
    "                algo = list()\n",
    "                self.algorithms[algo_kv[\"_name\"]] = algo\n",
    "\n",
    "                for param_kv in list(algo_kv.items())[1:]:\n",
    "                    param_name = param_kv[0]\n",
    "                    param_json = param_kv[1]\n",
    "                    param_type = param_json[\"_type\"]\n",
    "                    if param_type == \"choice\":\n",
    "                        values = list()\n",
    "                        for val in param_json[\"_value\"]:\n",
    "                            values.append(val)\n",
    "                        algo.append(ParameterRange.categorical(\n",
    "                            algo_kv[\"_name\"], param_name, values))\n",
    "                    else:\n",
    "                        values = param_json[\"_value\"]\n",
    "                        low = values[0]\n",
    "                        high = values[1]\n",
    "\n",
    "                        log = (param_type ==\n",
    "                               \"loguniform\" or param_type == \"qloguniform\")\n",
    "                        integer = (\n",
    "                            param_type == \"quniform\" or param_type == \"qloguniform\")\n",
    "                        alog.append(ParameterRange.numerical(\n",
    "                            algo_kv[\"_name\"], param_name, low, high, log, integer))\n"
   ]
  },
  {
   "cell_type": "code",
   "execution_count": 4,
   "metadata": {},
   "outputs": [],
   "source": [
    "t = SearchSpace(search_space)"
   ]
  },
  {
   "cell_type": "code",
   "execution_count": 9,
   "metadata": {},
   "outputs": [
    {
     "name": "stdout",
     "output_type": "stream",
     "text": [
      "group1\n",
      "group1|kernel\n",
      "group1|degree\n",
      "group2\n",
      "group2|kernel\n",
      "group2|degree\n"
     ]
    }
   ],
   "source": [
    "for algo in t.algorithms.items():\n",
    "    print(algo[0])\n",
    "    for param_range in algo[1]:\n",
    "        if param_range.is_categorical:\n",
    "            print(param_range.tag)\n",
    "        "
   ]
  },
  {
   "cell_type": "code",
   "execution_count": 10,
   "metadata": {},
   "outputs": [
    {
     "data": {
      "text/plain": [
       "odict_items([('group1', [<__main__.ParameterRange object at 0x7fb56c01df70>, <__main__.ParameterRange object at 0x7fb56c01dfd0>]), ('group2', [<__main__.ParameterRange object at 0x7fb56c01de80>, <__main__.ParameterRange object at 0x7fb56c01ddc0>])])"
      ]
     },
     "execution_count": 10,
     "metadata": {},
     "output_type": "execute_result"
    }
   ],
   "source": [
    "t.algorithms.items()"
   ]
  },
  {
   "cell_type": "code",
   "execution_count": 11,
   "metadata": {},
   "outputs": [
    {
     "data": {
      "text/plain": [
       "['group1', 'group2']"
      ]
     },
     "execution_count": 11,
     "metadata": {},
     "output_type": "execute_result"
    }
   ],
   "source": [
    "t.pipelines"
   ]
  },
  {
   "cell_type": "code",
   "execution_count": 32,
   "metadata": {},
   "outputs": [
    {
     "data": {
      "text/plain": [
       "array([0.25, 0.75])"
      ]
     },
     "execution_count": 32,
     "metadata": {},
     "output_type": "execute_result"
    }
   ],
   "source": [
    "np.array([5,15])/np.sum(np.array([5,15]))"
   ]
  },
  {
   "cell_type": "code",
   "execution_count": 12,
   "metadata": {},
   "outputs": [],
   "source": [
    "np.random.seed(7)"
   ]
  },
  {
   "cell_type": "code",
   "execution_count": 17,
   "metadata": {},
   "outputs": [
    {
     "name": "stdout",
     "output_type": "stream",
     "text": [
      "0\n",
      "0\n",
      "0\n",
      "0\n",
      "0\n",
      "0\n",
      "0\n",
      "0\n",
      "0\n",
      "0\n"
     ]
    }
   ],
   "source": [
    "for _ in range(10):\n",
    "    print(np.random.randint(0, 1))"
   ]
  },
  {
   "cell_type": "code",
   "execution_count": 26,
   "metadata": {},
   "outputs": [
    {
     "data": {
      "text/plain": [
       "25.0"
      ]
     },
     "execution_count": 26,
     "metadata": {},
     "output_type": "execute_result"
    }
   ],
   "source": [
    "np.sqrt(10000)*0.25"
   ]
  },
  {
   "cell_type": "code",
   "execution_count": null,
   "metadata": {},
   "outputs": [],
   "source": []
  }
 ],
 "metadata": {
  "kernelspec": {
   "display_name": "Python 3.8.5 64-bit ('env': conda)",
   "language": "python",
   "name": "python38564bitenvcondabfe3e2b5a237405493a49ad820157e2c"
  },
  "language_info": {
   "codemirror_mode": {
    "name": "ipython",
    "version": 3
   },
   "file_extension": ".py",
   "mimetype": "text/x-python",
   "name": "python",
   "nbconvert_exporter": "python",
   "pygments_lexer": "ipython3",
   "version": "3.8.5"
  }
 },
 "nbformat": 4,
 "nbformat_minor": 4
}
